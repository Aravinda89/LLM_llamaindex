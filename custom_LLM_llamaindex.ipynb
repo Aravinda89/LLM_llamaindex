{
 "cells": [
  {
   "cell_type": "code",
   "execution_count": null,
   "id": "3ef8c028",
   "metadata": {},
   "outputs": [],
   "source": [
    "from typing import Optional, List, Mapping, Any\n",
    "\n",
    "from llama_index.core import SimpleDirectoryReader, SummaryIndex\n",
    "from llama_index.core.callbacks import CallbackManager\n",
    "from llama_index.core.llms import (\n",
    "    CustomLLM,\n",
    "    CompletionResponse,\n",
    "    CompletionResponseGen,\n",
    "    LLMMetadata,\n",
    ")\n",
    "from llama_index.core.llms.callbacks import llm_completion_callback\n",
    "from llama_index.core import Settings"
   ]
  },
  {
   "cell_type": "code",
   "execution_count": null,
   "id": "e32e5504",
   "metadata": {},
   "outputs": [],
   "source": [
    "class OurLLM(CustomLLM):\n",
    "    context_window: int = 3900\n",
    "    num_output: int = 256\n",
    "    model_name: str = \"custom\"\n",
    "    dummy_response: str = \"My response\"\n",
    "\n",
    "    @property\n",
    "    def metadata(self) -> LLMMetadata:\n",
    "        \"\"\"Get LLM metadata.\"\"\"\n",
    "        return LLMMetadata(\n",
    "            context_window=self.context_window,\n",
    "            num_output=self.num_output,\n",
    "            model_name=self.model_name,\n",
    "        )\n",
    "\n",
    "    @llm_completion_callback()\n",
    "    def complete(self, prompt: str, **kwargs: Any) -> CompletionResponse:\n",
    "        return CompletionResponse(text=self.dummy_response)\n",
    "\n",
    "    @llm_completion_callback()\n",
    "    def stream_complete(\n",
    "        self, prompt: str, **kwargs: Any\n",
    "    ) -> CompletionResponseGen:\n",
    "        response = \"\"\n",
    "        for token in self.dummy_response:\n",
    "            response += token\n",
    "            yield CompletionResponse(text=response, delta=token)"
   ]
  },
  {
   "cell_type": "code",
   "execution_count": null,
   "id": "9c6ab876",
   "metadata": {},
   "outputs": [],
   "source": [
    "# define our LLM\n",
    "Settings.llm = OurLLM()\n",
    "\n",
    "# define embed model\n",
    "Settings.embed_model = \"local:BAAI/bge-base-en-v1.5\"\n",
    "\n",
    "\n",
    "# Load the your data\n",
    "documents = SimpleDirectoryReader(\"./data\").load_data()\n",
    "index = SummaryIndex.from_documents(documents)\n",
    "\n",
    "# Query and print response\n",
    "query_engine = index.as_query_engine()\n",
    "response = query_engine.query(\"<query_text>\")\n",
    "print(response)"
   ]
  }
 ],
 "metadata": {
  "kernelspec": {
   "display_name": "Python 3 (ipykernel)",
   "language": "python",
   "name": "python3"
  },
  "language_info": {
   "codemirror_mode": {
    "name": "ipython",
    "version": 3
   },
   "file_extension": ".py",
   "mimetype": "text/x-python",
   "name": "python",
   "nbconvert_exporter": "python",
   "pygments_lexer": "ipython3",
   "version": "3.8.10"
  }
 },
 "nbformat": 4,
 "nbformat_minor": 5
}
